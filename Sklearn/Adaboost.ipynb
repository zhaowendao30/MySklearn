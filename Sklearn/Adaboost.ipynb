{
 "cells": [
  {
   "cell_type": "code",
   "execution_count": 1,
   "metadata": {},
   "outputs": [],
   "source": [
    "from sklearn.ensemble import AdaBoostClassifier\n",
    "from sklearn.datasets import load_digits\n",
    "from sklearn.model_selection import train_test_split\n",
    "from sklearn.tree import DecisionTreeClassifier\n",
    "from sklearn.metrics import confusion_matrix"
   ]
  },
  {
   "cell_type": "code",
   "execution_count": 2,
   "metadata": {
    "tags": []
   },
   "outputs": [
    {
     "output_type": "stream",
     "name": "stdout",
     "text": "(1797, 64) (1797,)\n"
    }
   ],
   "source": [
    "digits = load_digits()\n",
    "data = digits.data\n",
    "target = digits.target\n",
    "print(data.shape,target.shape)\n",
    "x_train,x_test,y_train,y_test = train_test_split(data,target,test_size=0.1)"
   ]
  },
  {
   "cell_type": "code",
   "execution_count": 5,
   "metadata": {},
   "outputs": [
    {
     "output_type": "execute_result",
     "data": {
      "text/plain": "array([ 0.,  0.,  0., 12., 13.,  5.,  0.,  0.,  0.,  0.,  0., 11., 16.,\n        9.,  0.,  0.,  0.,  0.,  3., 15., 16.,  6.,  0.,  0.,  0.,  7.,\n       15., 16., 16.,  2.,  0.,  0.,  0.,  0.,  1., 16., 16.,  3.,  0.,\n        0.,  0.,  0.,  1., 16., 16.,  6.,  0.,  0.,  0.,  0.,  1., 16.,\n       16.,  6.,  0.,  0.,  0.,  0.,  0., 11., 16., 10.,  0.,  0.])"
     },
     "metadata": {},
     "execution_count": 5
    }
   ],
   "source": [
    "data[1]"
   ]
  },
  {
   "cell_type": "code",
   "execution_count": 46,
   "metadata": {
    "tags": []
   },
   "outputs": [
    {
     "output_type": "stream",
     "name": "stdout",
     "text": "单棵决策树分类结果如下：\n混淆矩阵:\n[[23  0  0  0  0  0  0  0  0  0]\n [ 0 11  0  0  0  0  1  0  0  2]\n [ 0  3 16  0  0  0  0  1  0  0]\n [ 0  1  0 10  0  1  0  0  2  1]\n [ 0  0  0  0 14  1  0  1  0  0]\n [ 0  0  0  1  0 10  0  0  0  1]\n [ 1  0  0  0  1  0 18  0  0  0]\n [ 0  0  0  1  0  0  0 16  0  2]\n [ 1  1  0  3  0  0  0  0 14  0]\n [ 0  0  0  2  0  2  0  1  1 16]]\n训练集分数： 0.9993815708101422\n验证集分数： 0.8222222222222222\n"
    }
   ],
   "source": [
    "clf = DecisionTreeClassifier(max_depth=15)\n",
    "clf.fit(x_train,y_train)\n",
    "y_pred = clf.predict(x_test)\n",
    "print(\"单棵决策树分类结果如下：\")\n",
    "print(\"混淆矩阵:\")\n",
    "print(confusion_matrix(y_pred,y_test))\n",
    "print(\"训练集分数：\",clf.score(x_train,y_train))\n",
    "print(\"验证集分数：\",clf.score(x_test,y_test))"
   ]
  },
  {
   "cell_type": "code",
   "execution_count": 64,
   "metadata": {
    "tags": []
   },
   "outputs": [
    {
     "output_type": "stream",
     "name": "stdout",
     "text": "Adaboost分类器（多棵决策树）分类结果如下：\n混淆矩阵:\n[[25  0  0  0  0  0  0  0  0  0]\n [ 0 16  0  0  0  0  0  0  0  0]\n [ 0  0 16  0  0  0  0  0  0  0]\n [ 0  0  0 17  0  0  0  0  0  0]\n [ 0  0  0  0 15  1  0  0  0  0]\n [ 0  0  0  0  0 12  0  0  0  1]\n [ 0  0  0  0  0  0 19  0  0  0]\n [ 0  0  0  0  0  0  0 19  0  0]\n [ 0  0  0  0  0  0  0  0 15  0]\n [ 0  0  0  0  0  1  0  0  2 21]]\n训练集分数： 1.0\n验证集分数： 0.9722222222222222\n"
    }
   ],
   "source": [
    "clf = AdaBoostClassifier(base_estimator=DecisionTreeClassifier(max_depth=10),\n",
    "                         n_estimators=40,\n",
    "                         learning_rate=0.5,\n",
    "                         algorithm='SAMME'\n",
    "                         )\n",
    "clf.fit(x_train,y_train)\n",
    "y_pred = clf.predict(x_test)\n",
    "print(\"Adaboost分类器（多棵决策树）分类结果如下：\")\n",
    "print(\"混淆矩阵:\")\n",
    "print(confusion_matrix(y_pred,y_test))\n",
    "print(\"训练集分数：\",clf.score(x_train,y_train))\n",
    "print(\"验证集分数：\",clf.score(x_test,y_test))\n"
   ]
  },
  {
   "cell_type": "code",
   "execution_count": null,
   "metadata": {},
   "outputs": [],
   "source": []
  },
  {
   "cell_type": "code",
   "execution_count": 3,
   "metadata": {},
   "outputs": [],
   "source": [
    "import math\n",
    "import numpy as np\n",
    "\n",
    "a = math.log(2)\n",
    "b = np.log(2)"
   ]
  },
  {
   "cell_type": "code",
   "execution_count": 4,
   "metadata": {},
   "outputs": [
    {
     "output_type": "execute_result",
     "data": {
      "text/plain": "(0.6931471805599453, 0.6931471805599453)"
     },
     "metadata": {},
     "execution_count": 4
    }
   ],
   "source": [
    "a, b"
   ]
  },
  {
   "cell_type": "code",
   "execution_count": 32,
   "metadata": {},
   "outputs": [],
   "source": [
    "a = np.random.randint(1, 10, 10)"
   ]
  },
  {
   "cell_type": "code",
   "execution_count": 35,
   "metadata": {},
   "outputs": [],
   "source": [
    "a = [1, 1, 1, 2, 2, 3, 4]"
   ]
  },
  {
   "cell_type": "code",
   "execution_count": 36,
   "metadata": {},
   "outputs": [],
   "source": [
    "a = np.array(a)"
   ]
  },
  {
   "cell_type": "code",
   "execution_count": 40,
   "metadata": {},
   "outputs": [
    {
     "output_type": "execute_result",
     "data": {
      "text/plain": "array([2, 2])"
     },
     "metadata": {},
     "execution_count": 40
    }
   ],
   "source": [
    "a[a==2]"
   ]
  },
  {
   "cell_type": "code",
   "execution_count": 30,
   "metadata": {},
   "outputs": [],
   "source": [
    "def f(y):\n",
    "      # 计算节点，出现最多\n",
    "        most_common = None\n",
    "        max_count = 0\n",
    "        for label in np.unique(y):\n",
    "            # Count number of occurences of samples with label\n",
    "            count = len(y[y == label])\n",
    "            if count > max_count:\n",
    "                most_common = label\n",
    "                max_count = count\n",
    "        # print(\"most_common :\",most_common)\n",
    "        return most_common"
   ]
  },
  {
   "cell_type": "code",
   "execution_count": 48,
   "metadata": {},
   "outputs": [],
   "source": [
    "a = np.random.randint(1, 10, (5, 10))\n",
    "b = np.random.randint(0, 1, (5, 1))\n",
    "a1 = np.random.randint(1, 10, (1, 10))"
   ]
  },
  {
   "cell_type": "code",
   "execution_count": 50,
   "metadata": {},
   "outputs": [
    {
     "output_type": "execute_result",
     "data": {
      "text/plain": "array([[7, 2, 2, 8, 2, 9, 9, 4, 6, 2, 0],\n       [4, 7, 1, 4, 6, 2, 1, 3, 2, 3, 0],\n       [2, 6, 4, 1, 9, 9, 8, 5, 4, 6, 0],\n       [6, 5, 5, 9, 7, 8, 6, 8, 2, 2, 0],\n       [6, 6, 3, 2, 7, 4, 2, 7, 3, 2, 0]])"
     },
     "metadata": {},
     "execution_count": 50
    }
   ],
   "source": [
    "c = np.concatenate((a, b), axis=1)\n",
    "c"
   ]
  },
  {
   "cell_type": "code",
   "execution_count": 64,
   "metadata": {},
   "outputs": [
    {
     "output_type": "execute_result",
     "data": {
      "text/plain": "array([[7, 2, 2, 8, 2, 9, 9, 4, 6, 2],\n       [4, 7, 1, 4, 6, 2, 1, 3, 2, 3],\n       [2, 6, 4, 1, 9, 9, 8, 5, 4, 6],\n       [6, 5, 5, 9, 7, 8, 6, 8, 2, 2],\n       [6, 6, 3, 2, 7, 4, 2, 7, 3, 2],\n       [6, 6, 8, 1, 2, 6, 7, 3, 3, 5]])"
     },
     "metadata": {},
     "execution_count": 64
    }
   ],
   "source": [
    "d = np.concatenate((a, a1), axis=0)\n",
    "d"
   ]
  },
  {
   "cell_type": "code",
   "execution_count": 65,
   "metadata": {},
   "outputs": [
    {
     "output_type": "execute_result",
     "data": {
      "text/plain": "array([[2],\n       [7],\n       [6],\n       [5],\n       [6],\n       [6]])"
     },
     "metadata": {},
     "execution_count": 65
    }
   ],
   "source": [
    "d1 = d[:, 1]\n",
    "d2 = np.expand_dims(d1, axis=1)\n",
    "d2"
   ]
  },
  {
   "cell_type": "code",
   "execution_count": 67,
   "metadata": {},
   "outputs": [],
   "source": [
    "a = [[2, 2]]\n",
    "b = zip(*a)"
   ]
  },
  {
   "cell_type": "code",
   "execution_count": null,
   "metadata": {},
   "outputs": [],
   "source": []
  }
 ],
 "metadata": {
  "language_info": {
   "codemirror_mode": {
    "name": "ipython",
    "version": 3
   },
   "file_extension": ".py",
   "mimetype": "text/x-python",
   "name": "python",
   "nbconvert_exporter": "python",
   "pygments_lexer": "ipython3",
   "version": "3.7.6-final"
  },
  "orig_nbformat": 2,
  "kernelspec": {
   "name": "python36464bitbasecondad5ce925ad7ce4269be5ebed8f684b42a",
   "display_name": "Python 3.6.4 64-bit ('base': conda)"
  }
 },
 "nbformat": 4,
 "nbformat_minor": 2
}