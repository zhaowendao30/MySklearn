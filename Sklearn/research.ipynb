{
 "cells": [
  {
   "cell_type": "code",
   "execution_count": 1,
   "metadata": {},
   "outputs": [],
   "source": [
    "import numpy as np"
   ]
  },
  {
   "cell_type": "code",
   "execution_count": 52,
   "metadata": {},
   "outputs": [
    {
     "output_type": "execute_result",
     "data": {
      "text/plain": "array([[6, 3, 4],\n       [7, 5, 2],\n       [5, 6, 2]])"
     },
     "metadata": {},
     "execution_count": 52
    }
   ],
   "source": [
    "a = np.random.randint(1, 10, (3,3))\n",
    "a"
   ]
  },
  {
   "cell_type": "code",
   "execution_count": 53,
   "metadata": {},
   "outputs": [
    {
     "output_type": "execute_result",
     "data": {
      "text/plain": "array([[6, 3, 4],\n       [7, 5, 2],\n       [5, 6, 2]])"
     },
     "metadata": {},
     "execution_count": 53
    }
   ],
   "source": [
    "a"
   ]
  },
  {
   "cell_type": "code",
   "execution_count": 54,
   "metadata": {},
   "outputs": [
    {
     "output_type": "execute_result",
     "data": {
      "text/plain": "array([[2.44948974, 1.73205081, 2.        ],\n       [2.64575131, 2.23606798, 1.41421356],\n       [2.23606798, 2.44948974, 1.41421356]])"
     },
     "metadata": {},
     "execution_count": 54
    }
   ],
   "source": [
    "np.sqrt(a)"
   ]
  },
  {
   "cell_type": "code",
   "execution_count": 55,
   "metadata": {},
   "outputs": [
    {
     "output_type": "execute_result",
     "data": {
      "text/plain": "array([[6, 3, 4],\n       [7, 5, 2],\n       [5, 6, 2]])"
     },
     "metadata": {},
     "execution_count": 55
    }
   ],
   "source": [
    "np.multiply(a, np.ones_like(a))"
   ]
  },
  {
   "cell_type": "code",
   "execution_count": 57,
   "metadata": {},
   "outputs": [
    {
     "output_type": "execute_result",
     "data": {
      "text/plain": "array([[13, 13, 13],\n       [14, 14, 14],\n       [13, 13, 13]])"
     },
     "metadata": {},
     "execution_count": 57
    }
   ],
   "source": [
    "a.dot(np.ones_like(a))"
   ]
  },
  {
   "cell_type": "code",
   "execution_count": null,
   "metadata": {},
   "outputs": [],
   "source": []
  },
  {
   "cell_type": "code",
   "execution_count": 51,
   "metadata": {},
   "outputs": [
    {
     "output_type": "execute_result",
     "data": {
      "text/plain": "array([1, 4, 9])"
     },
     "metadata": {},
     "execution_count": 51
    }
   ],
   "source": [
    "a = np.array([1, 2, 3])\n",
    "b = np.array([1, 2, 3])\n",
    "c = a * b\n",
    "c"
   ]
  },
  {
   "cell_type": "code",
   "execution_count": null,
   "metadata": {},
   "outputs": [],
   "source": [
    "from sklearn import RegressionTree\n",
    "print (\"-- Classification Tree --\")\n",
    "\n",
    "data = datasets.load_boston()\n",
    "X = data.data\n",
    "y = data.target\n",
    "\n",
    "X_train, X_test, y_train, y_test = train_test_split(X, y, test_size=0.1)\n",
    "\n",
    "clf = RegressionTree()\n",
    "clf.fit(X_train, y_train)\n",
    "y_pred = clf.predict(X_test)\n",
    "mse = mean_squared_error(y_pred, y_test)\n",
    "#accuracy = accuracy_score(y_test, y_pred)\n",
    "\n",
    "#print (\"Accuracy:\", accuracy)\n",
    "print (\"loss:\", mse)\n",
    "#clf.print_tree()"
   ]
  },
  {
   "cell_type": "code",
   "execution_count": 58,
   "metadata": {},
   "outputs": [
    {
     "output_type": "execute_result",
     "data": {
      "text/plain": "array([6, 7, 6, 1, 3, 8, 8, 3, 6, 4])"
     },
     "metadata": {},
     "execution_count": 58
    }
   ],
   "source": [
    "y = np.random.randint(1, 10, 10)\n",
    "y"
   ]
  },
  {
   "cell_type": "code",
   "execution_count": 59,
   "metadata": {},
   "outputs": [
    {
     "output_type": "execute_result",
     "data": {
      "text/plain": "array([6, 1, 7, 6])"
     },
     "metadata": {},
     "execution_count": 59
    }
   ],
   "source": [
    "idx = [2, 3, 1, 8]\n",
    "y_label = y[idx]\n",
    "y_label"
   ]
  },
  {
   "cell_type": "code",
   "execution_count": 63,
   "metadata": {},
   "outputs": [
    {
     "output_type": "execute_result",
     "data": {
      "text/plain": "11.789826122551595"
     },
     "metadata": {},
     "execution_count": 63
    }
   ],
   "source": [
    "x1 = np.random.randint(1, 10, 10)\n",
    "x1 = np.expand_dims(x1, axis=1)\n",
    "x2 = np.random.randint(1, 10, 10)\n",
    "x2 = np.expand_dims(x2, axis=1)\n",
    "distance1 = np.sqrt(np.sum(np.power(x1-x2, 2)))\n",
    "distance1"
   ]
  },
  {
   "cell_type": "code",
   "execution_count": 64,
   "metadata": {},
   "outputs": [
    {
     "output_type": "execute_result",
     "data": {
      "text/plain": "array([11.78982612])"
     },
     "metadata": {},
     "execution_count": 64
    }
   ],
   "source": [
    "distance2 = 0\n",
    "for i in range(len(x1)):\n",
    "    distance2 += np.power(x1[i] - x2[i], 2)\n",
    "distance2 = np.sqrt(distance2)\n",
    "distance2"
   ]
  },
  {
   "cell_type": "code",
   "execution_count": 68,
   "metadata": {},
   "outputs": [
    {
     "output_type": "execute_result",
     "data": {
      "text/plain": "['a', 'd', 'a', 's']"
     },
     "metadata": {},
     "execution_count": 68
    }
   ],
   "source": [
    "s = 'sadas'\n",
    "s = list(s)\n",
    "s.remove('s')\n",
    "s"
   ]
  },
  {
   "cell_type": "code",
   "execution_count": 70,
   "metadata": {},
   "outputs": [
    {
     "output_type": "execute_result",
     "data": {
      "text/plain": "[('a', 'd', 'a', 's'),\n ('a', 'd', 's', 'a'),\n ('a', 'a', 'd', 's'),\n ('a', 'a', 's', 'd'),\n ('a', 's', 'd', 'a'),\n ('a', 's', 'a', 'd'),\n ('d', 'a', 'a', 's'),\n ('d', 'a', 's', 'a'),\n ('d', 'a', 'a', 's'),\n ('d', 'a', 's', 'a'),\n ('d', 's', 'a', 'a'),\n ('d', 's', 'a', 'a'),\n ('a', 'a', 'd', 's'),\n ('a', 'a', 's', 'd'),\n ('a', 'd', 'a', 's'),\n ('a', 'd', 's', 'a'),\n ('a', 's', 'a', 'd'),\n ('a', 's', 'd', 'a'),\n ('s', 'a', 'd', 'a'),\n ('s', 'a', 'a', 'd'),\n ('s', 'd', 'a', 'a'),\n ('s', 'd', 'a', 'a'),\n ('s', 'a', 'a', 'd'),\n ('s', 'a', 'd', 'a')]"
     },
     "metadata": {},
     "execution_count": 70
    }
   ],
   "source": [
    "from itertools import permutations as per\n",
    "res = per(s)\n",
    "list(res)"
   ]
  },
  {
   "cell_type": "code",
   "execution_count": 74,
   "metadata": {},
   "outputs": [
    {
     "output_type": "execute_result",
     "data": {
      "text/plain": "19.8997487421324"
     },
     "metadata": {},
     "execution_count": 74
    }
   ],
   "source": [
    "a = np.random.randint(1, 10 ,10)\n",
    "b = np.linalg.norm(a, 2, axis=-1)\n",
    "b"
   ]
  },
  {
   "cell_type": "code",
   "execution_count": 76,
   "metadata": {},
   "outputs": [
    {
     "output_type": "execute_result",
     "data": {
      "text/plain": "(10,)"
     },
     "metadata": {},
     "execution_count": 76
    }
   ],
   "source": [
    "a.shape"
   ]
  },
  {
   "cell_type": "code",
   "execution_count": 83,
   "metadata": {},
   "outputs": [
    {
     "output_type": "execute_result",
     "data": {
      "text/plain": "(2, 2, 2)"
     },
     "metadata": {},
     "execution_count": 83
    }
   ],
   "source": [
    "a = np.random.randint(1, 10, (2, 2, 2))\n",
    "a.shape"
   ]
  },
  {
   "cell_type": "code",
   "execution_count": 88,
   "metadata": {},
   "outputs": [
    {
     "output_type": "execute_result",
     "data": {
      "text/plain": "(2, 2, 2, 1)"
     },
     "metadata": {},
     "execution_count": 88
    }
   ],
   "source": [
    "b = np.expand_dims(a, axis=-1)\n",
    "b.shape"
   ]
  },
  {
   "cell_type": "code",
   "execution_count": 101,
   "metadata": {},
   "outputs": [
    {
     "output_type": "execute_result",
     "data": {
      "text/plain": "array([False,  True, False, False, False, False,  True, False,  True,\n        True])"
     },
     "metadata": {},
     "execution_count": 101
    }
   ],
   "source": [
    "a = np.random.randint(1, 10, 10)\n",
    "a == 2"
   ]
  },
  {
   "cell_type": "code",
   "execution_count": 102,
   "metadata": {},
   "outputs": [
    {
     "output_type": "execute_result",
     "data": {
      "text/plain": "0.4"
     },
     "metadata": {},
     "execution_count": 102
    }
   ],
   "source": [
    "np.mean(a==2)"
   ]
  },
  {
   "cell_type": "code",
   "execution_count": 104,
   "metadata": {},
   "outputs": [
    {
     "output_type": "execute_result",
     "data": {
      "text/plain": "2.718281828459045"
     },
     "metadata": {},
     "execution_count": 104
    }
   ],
   "source": [
    "np.exp(1)"
   ]
  },
  {
   "cell_type": "code",
   "execution_count": 111,
   "metadata": {},
   "outputs": [
    {
     "output_type": "execute_result",
     "data": {
      "text/plain": "{'s': {1: 1}}"
     },
     "metadata": {},
     "execution_count": 111
    }
   ],
   "source": [
    "d = {}\n",
    "d['s'] = {}\n",
    "d['s'][1] = 1\n",
    "d"
   ]
  },
  {
   "cell_type": "code",
   "execution_count": 119,
   "metadata": {
    "tags": []
   },
   "outputs": [
    {
     "output_type": "stream",
     "name": "stdout",
     "text": "0\n1\n2\n3\n4\n5\n6\n7\n8\n9\n"
    }
   ],
   "source": [
    "a = np.random.randint(1, 10, 10)\n",
    "b = np.random.randint(1, 10, 10)\n",
    "for (i, x), y in zip(enumerate(a), b):\n",
    "    print(i)"
   ]
  },
  {
   "cell_type": "code",
   "execution_count": 120,
   "metadata": {},
   "outputs": [],
   "source": [
    "from sklearn import datasets\n",
    "data = datasets.load_iris()"
   ]
  },
  {
   "cell_type": "code",
   "execution_count": 122,
   "metadata": {},
   "outputs": [],
   "source": [
    "    X = data.data\n",
    "    y = data.target"
   ]
  },
  {
   "cell_type": "code",
   "execution_count": 123,
   "metadata": {},
   "outputs": [],
   "source": [
    "a = [isinstance(any(x), float) for x in X.T]"
   ]
  },
  {
   "cell_type": "code",
   "execution_count": 130,
   "metadata": {},
   "outputs": [
    {
     "output_type": "execute_result",
     "data": {
      "text/plain": "False"
     },
     "metadata": {},
     "execution_count": 130
    }
   ],
   "source": [
    "isinstance(any(X.T[1]), float)"
   ]
  },
  {
   "cell_type": "code",
   "execution_count": 138,
   "metadata": {},
   "outputs": [
    {
     "output_type": "error",
     "ename": "TypeError",
     "evalue": "'bool' object is not iterable",
     "traceback": [
      "\u001b[1;31m---------------------------------------------------------------------------\u001b[0m",
      "\u001b[1;31mTypeError\u001b[0m                                 Traceback (most recent call last)",
      "\u001b[1;32m<ipython-input-138-3bb311340a6c>\u001b[0m in \u001b[0;36m<module>\u001b[1;34m\u001b[0m\n\u001b[1;32m----> 1\u001b[1;33m \u001b[0many\u001b[0m\u001b[1;33m(\u001b[0m\u001b[0misinstance\u001b[0m\u001b[1;33m(\u001b[0m\u001b[0mX\u001b[0m\u001b[1;33m.\u001b[0m\u001b[0mT\u001b[0m\u001b[1;33m[\u001b[0m\u001b[1;36m0\u001b[0m\u001b[1;33m]\u001b[0m\u001b[1;33m,\u001b[0m \u001b[0mfloat\u001b[0m\u001b[1;33m)\u001b[0m\u001b[1;33m)\u001b[0m\u001b[1;33m\u001b[0m\u001b[1;33m\u001b[0m\u001b[0m\n\u001b[0m",
      "\u001b[1;31mTypeError\u001b[0m: 'bool' object is not iterable"
     ]
    }
   ],
   "source": [
    "isinstance(X.T[0], float)"
   ]
  },
  {
   "cell_type": "code",
   "execution_count": 149,
   "metadata": {},
   "outputs": [
    {
     "output_type": "execute_result",
     "data": {
      "text/plain": "bool"
     },
     "metadata": {},
     "execution_count": 149
    }
   ],
   "source": [
    "d = np.random.randint(1, 10, 10)\n"
   ]
  },
  {
   "cell_type": "code",
   "execution_count": 152,
   "metadata": {},
   "outputs": [
    {
     "output_type": "execute_result",
     "data": {
      "text/plain": "[True, True, True, True]"
     },
     "metadata": {},
     "execution_count": 152
    }
   ],
   "source": [
    "[isinstance(x[0], float) for x in X.T]"
   ]
  },
  {
   "cell_type": "code",
   "execution_count": 158,
   "metadata": {},
   "outputs": [],
   "source": [
    "class Solution:\n",
    "    def floodFill(self, image, sr, sc, newColor):\n",
    "        r, c = len(image), len(image[0])\n",
    "        res = [[sr, sc]]\n",
    "        visited = [[1 for _ in range(c)] for _ in range(r)]\n",
    "        visited[sr][sc] = 1\n",
    "        points = [[sr, sc]]\n",
    "        while points:\n",
    "            temp = []\n",
    "            for x, y in points:\n",
    "                for dx, dy in [[1, 0], [-1, 0], [0, 1], [0, -1]]:\n",
    "                    i = x + dx\n",
    "                    j = y + dy\n",
    "                    if 0 <= i < r and 0 <= j < c and visited[i][j] and image[x][y] ==  image[i][j]:\n",
    "                        visited[i][j] = 0\n",
    "                        temp.append([i, j])\n",
    "                        res.append([i, j])\n",
    "            points = temp\n",
    "        for i, j in res:\n",
    "            image[i][j] = newColor\n",
    "        return image"
   ]
  },
  {
   "cell_type": "code",
   "execution_count": 159,
   "metadata": {},
   "outputs": [],
   "source": [
    "a = Solution()"
   ]
  },
  {
   "cell_type": "code",
   "execution_count": 160,
   "metadata": {},
   "outputs": [],
   "source": [
    "image =[[0,0,0],[0,0,0]]\n",
    "sr = 0\n",
    "sc = 0\n",
    "newColor = 2"
   ]
  },
  {
   "cell_type": "code",
   "execution_count": 161,
   "metadata": {},
   "outputs": [
    {
     "output_type": "execute_result",
     "data": {
      "text/plain": "[[2, 2, 2], [2, 2, 2]]"
     },
     "metadata": {},
     "execution_count": 161
    }
   ],
   "source": [
    "a.floodFill(image, sr, sc, newColor)"
   ]
  },
  {
   "cell_type": "code",
   "execution_count": 8,
   "metadata": {},
   "outputs": [
    {
     "output_type": "execute_result",
     "data": {
      "text/plain": "array([2, 4])"
     },
     "metadata": {},
     "execution_count": 8
    }
   ],
   "source": [
    "import numpy as np\n",
    "a = [[1, 2], [3, 4]]\n",
    "a = np.array(a)\n",
    "a[:, 1]"
   ]
  },
  {
   "cell_type": "code",
   "execution_count": 10,
   "metadata": {},
   "outputs": [
    {
     "output_type": "execute_result",
     "data": {
      "text/plain": "[['.', '.', '.'], ['.', '.', '.'], ['.', '.', '.']]"
     },
     "metadata": {},
     "execution_count": 10
    }
   ],
   "source": [
    "n = 3\n",
    "helper = [['.' for _ in range(n)] for _ in range(n)]\n",
    "helper"
   ]
  },
  {
   "cell_type": "code",
   "execution_count": 17,
   "metadata": {},
   "outputs": [
    {
     "output_type": "execute_result",
     "data": {
      "text/plain": "['...', '...', '...']"
     },
     "metadata": {},
     "execution_count": 17
    }
   ],
   "source": [
    "helper = [''.join(x) for x in helper]\n",
    "helper"
   ]
  },
  {
   "cell_type": "code",
   "execution_count": 43,
   "metadata": {},
   "outputs": [
    {
     "output_type": "execute_result",
     "data": {
      "text/plain": "array([1, 1, 1])"
     },
     "metadata": {},
     "execution_count": 43
    }
   ],
   "source": [
    "a = np.array([1, 1, 1, 2, 3, 2])\n",
    "b = (a == 1)\n",
    "a[b]"
   ]
  },
  {
   "cell_type": "code",
   "execution_count": 44,
   "metadata": {},
   "outputs": [
    {
     "output_type": "execute_result",
     "data": {
      "text/plain": "array([ True,  True,  True, False, False, False])"
     },
     "metadata": {},
     "execution_count": 44
    }
   ],
   "source": [
    "b"
   ]
  },
  {
   "cell_type": "code",
   "execution_count": 62,
   "metadata": {},
   "outputs": [
    {
     "output_type": "execute_result",
     "data": {
      "text/plain": "0.6931221811849244"
     },
     "metadata": {},
     "execution_count": 62
    }
   ],
   "source": [
    "error = 0.2\n",
    "0.5 * np.log((1.0 - error) / (error + 1e-5))"
   ]
  },
  {
   "cell_type": "code",
   "execution_count": 63,
   "metadata": {},
   "outputs": [],
   "source": [
    "n_samples = 10\n",
    "y_pred = np.zeros((n_samples, 1))"
   ]
  },
  {
   "cell_type": "code",
   "execution_count": 64,
   "metadata": {},
   "outputs": [
    {
     "output_type": "execute_result",
     "data": {
      "text/plain": "array([[0.],\n       [0.],\n       [0.],\n       [0.],\n       [0.],\n       [0.],\n       [0.],\n       [0.],\n       [0.],\n       [0.]])"
     },
     "metadata": {},
     "execution_count": 64
    }
   ],
   "source": [
    "y_pred"
   ]
  },
  {
   "cell_type": "code",
   "execution_count": 65,
   "metadata": {},
   "outputs": [],
   "source": [
    "n_samples = 10\n",
    "w = np.full(n_samples, (1 / n_samples))"
   ]
  },
  {
   "cell_type": "code",
   "execution_count": 86,
   "metadata": {},
   "outputs": [],
   "source": [
    "import math\n",
    "def calculate_entropy(y):\n",
    "    \"\"\" Calculate the entropy of label array y \"\"\"\n",
    "    log2 = lambda x: math.log(x) / math.log(2)\n",
    "    unique_labels = np.unique(y)\n",
    "    entropy = 0\n",
    "    for label in unique_labels:\n",
    "        count = len(y[y == label])\n",
    "        p = count / len(y)\n",
    "        entropy -= p * log2(p)\n",
    "    return entropy"
   ]
  },
  {
   "cell_type": "code",
   "execution_count": 91,
   "metadata": {},
   "outputs": [],
   "source": [
    "def _calculate_information_gain(y, y1, y2):\n",
    "        # Calculate information gain\n",
    "        p = len(y1) / len(y)\n",
    "        entropy = calculate_entropy(y)\n",
    "        info_gain = entropy - p * \\\n",
    "            calculate_entropy(y1) - (1 - p) * \\\n",
    "            calculate_entropy(y2)\n",
    "\n",
    "        return info_gain"
   ]
  },
  {
   "cell_type": "code",
   "execution_count": 92,
   "metadata": {},
   "outputs": [],
   "source": [
    "from sklearn import datasets\n",
    "data = datasets.load_iris()\n",
    "X = data.data\n",
    "y = data.target\n",
    "y_pred = np.full(y.shape, np.mean(y, axis=0))\n",
    "a = np.array([y_pred, y_pred, y_pred])\n",
    "y0, y1, y2 = a[:20], a[20:40], a[40:]"
   ]
  },
  {
   "cell_type": "code",
   "execution_count": 93,
   "metadata": {},
   "outputs": [],
   "source": [
    "b = _calculate_information_gain(y0, y1, y2)"
   ]
  },
  {
   "cell_type": "code",
   "execution_count": 95,
   "metadata": {},
   "outputs": [
    {
     "output_type": "execute_result",
     "data": {
      "text/plain": "-1084.322803574382"
     },
     "metadata": {},
     "execution_count": 95
    }
   ],
   "source": [
    "b"
   ]
  },
  {
   "cell_type": "code",
   "execution_count": 96,
   "metadata": {},
   "outputs": [],
   "source": [
    "def calEntropy(Y):\n",
    "    entropy = 0.0\n",
    "    log2 = lambda x: np.log(x)/np.log(2)\n",
    "    unique_labels = np.unique(Y)\n",
    "    n = len(Y)\n",
    "\n",
    "    for label in unique_labels:\n",
    "        p = len(Y[Y == label])/n\n",
    "        entropy -= p*log2(p)\n",
    "    return entropy\n",
    "\n",
    "# 计算信息增益\n",
    "def calGain(y, y0, y1):\n",
    "    EntD = calEntropy(y)\n",
    "    p = len(y0) / len(y)\n",
    "    Gain = EntD - p * calEntropy(y0) - (1 - p) * calEntropy(y1)\n",
    "    return Gain"
   ]
  },
  {
   "cell_type": "code",
   "execution_count": 97,
   "metadata": {},
   "outputs": [],
   "source": [
    "bb = calGain(y0, y1, y2)"
   ]
  },
  {
   "cell_type": "code",
   "execution_count": 98,
   "metadata": {},
   "outputs": [
    {
     "output_type": "execute_result",
     "data": {
      "text/plain": "-1084.322803574382"
     },
     "metadata": {},
     "execution_count": 98
    }
   ],
   "source": [
    "bb"
   ]
  },
  {
   "cell_type": "code",
   "execution_count": 14,
   "metadata": {},
   "outputs": [
    {
     "output_type": "execute_result",
     "data": {
      "text/plain": "[1, 2, 3, 2, 5, 0]"
     },
     "metadata": {},
     "execution_count": 14
    }
   ],
   "source": [
    "A = [1,2,3,0,0,0]\n",
    "B = [2,5]\n",
    "A[3: 3 + 2] = B\n",
    "A"
   ]
  },
  {
   "cell_type": "code",
   "execution_count": 15,
   "metadata": {},
   "outputs": [],
   "source": [
    "A = A + [B]"
   ]
  },
  {
   "cell_type": "code",
   "execution_count": 17,
   "metadata": {},
   "outputs": [
    {
     "output_type": "execute_result",
     "data": {
      "text/plain": "5"
     },
     "metadata": {},
     "execution_count": 17
    }
   ],
   "source": [
    "A[-1][-1]"
   ]
  },
  {
   "cell_type": "code",
   "execution_count": 25,
   "metadata": {},
   "outputs": [],
   "source": [
    "class Solution:\n",
    "    def pileBox(self, box):\n",
    "        self.res = 0\n",
    "        def bfs(boxes, path, ans):\n",
    "            self.res = max(self.res, ans)\n",
    "            for i,b in enumerate(boxes):\n",
    "                if not path or (path[-1][0] > b[0] and path[-1][1] > b[1] and path[-1][2] > b[2]):\n",
    "                    print(path)\n",
    "                    temp = boxes[:i] + boxes[i + 1:]\n",
    "                    bfs(temp, path + [b], ans + b[-1])\n",
    "        bfs(box, [], 0)\n",
    "        return self.res"
   ]
  },
  {
   "cell_type": "code",
   "execution_count": 26,
   "metadata": {
    "tags": []
   },
   "outputs": [
    {
     "output_type": "stream",
     "name": "stdout",
     "text": "[]\n[]\n[[2, 3, 4]]\n[]\n[[2, 6, 7]]\n[]\n[[3, 4, 5]]\n[[3, 4, 5]]\n[[3, 4, 5], [2, 3, 4]]\n"
    },
    {
     "output_type": "execute_result",
     "data": {
      "text/plain": "10"
     },
     "metadata": {},
     "execution_count": 26
    }
   ],
   "source": [
    "s = Solution()\n",
    "box = [[1, 1, 1], [2, 3, 4], [2, 6, 7], [3, 4, 5]]\n",
    "s.pileBox(box)"
   ]
  },
  {
   "cell_type": "code",
   "execution_count": 27,
   "metadata": {},
   "outputs": [
    {
     "output_type": "execute_result",
     "data": {
      "text/plain": "[[1, 1, 1], [2, 3, 4], [2, 6, 7], [3, 4, 5]]"
     },
     "metadata": {},
     "execution_count": 27
    }
   ],
   "source": [
    "sorted(box)"
   ]
  },
  {
   "cell_type": "code",
   "execution_count": 32,
   "metadata": {},
   "outputs": [
    {
     "output_type": "execute_result",
     "data": {
      "text/plain": "False"
     },
     "metadata": {},
     "execution_count": 32
    }
   ],
   "source": [
    "eval(str(True)+'&'+str(False))"
   ]
  },
  {
   "cell_type": "code",
   "execution_count": 37,
   "metadata": {},
   "outputs": [
    {
     "output_type": "execute_result",
     "data": {
      "text/plain": "2"
     },
     "metadata": {},
     "execution_count": 37
    }
   ],
   "source": [
    "(1 == True) + True"
   ]
  },
  {
   "cell_type": "code",
   "execution_count": 40,
   "metadata": {},
   "outputs": [
    {
     "output_type": "execute_result",
     "data": {
      "text/plain": "2"
     },
     "metadata": {},
     "execution_count": 40
    }
   ],
   "source": [
    "eval('1') + True"
   ]
  },
  {
   "cell_type": "code",
   "execution_count": 63,
   "metadata": {},
   "outputs": [],
   "source": [
    "class Solution:\n",
    "    def countEval(self, s: str, result: int) -> int:\n",
    "        self.ops = {\n",
    "            '&': {\n",
    "                True: [(True, True)],\n",
    "                False: [(True, False), (False, True), (False, False)]\n",
    "            },\n",
    "            '|': {\n",
    "                True: [(True, False), (False, True), (True, True)],\n",
    "                False: [(False, False)]\n",
    "            },\n",
    "            '^': {\n",
    "                True: [(True, False), (False, True)],\n",
    "                False: [(True, True), (False, False)]\n",
    "            }\n",
    "        }\n",
    "\n",
    "        def divide(expression, result, dic):\n",
    "            if len(expression) == 1:\n",
    "                return int(eval(expression)==result)\n",
    "            \n",
    "            if (expression, result) in dic:\n",
    "                return dic[(expression, result)]\n",
    "            \n",
    "            total = 0\n",
    "            for i, express in enumerate(expression):\n",
    "                if express in '&|^':\n",
    "                    for left, right in self.ops[express][result]:\n",
    "                        total += divide(expression[:i], left, dic) * divide(expression[i+1:], right, dic)\n",
    "            dic[(expression, result)] = total\n",
    "\n",
    "            return total\n",
    "        \n",
    "        res = divide(s, result, {})\n",
    "        return res\n",
    "\n",
    "\n"
   ]
  },
  {
   "cell_type": "code",
   "execution_count": 64,
   "metadata": {},
   "outputs": [
    {
     "output_type": "execute_result",
     "data": {
      "text/plain": "10"
     },
     "metadata": {},
     "execution_count": 64
    }
   ],
   "source": [
    "p = Solution()\n",
    "s = \"0&0&0&1^1|0\"\n",
    "result = 1\n",
    "p.countEval(s, result)"
   ]
  },
  {
   "cell_type": "code",
   "execution_count": 71,
   "metadata": {},
   "outputs": [],
   "source": [
    "import numpy as np\n",
    "def loss(y, p):\n",
    "    # Avoid division by zero\n",
    "    p = np.clip(p, 1e-15, 1 - 1e-15)\n",
    "    return - y * np.log(p) - (1 - y) * np.log(1 - p)"
   ]
  },
  {
   "cell_type": "code",
   "execution_count": 73,
   "metadata": {},
   "outputs": [
    {
     "output_type": "execute_result",
     "data": {
      "text/plain": "array([2.30258509, 0.10536052, 0.10536052])"
     },
     "metadata": {},
     "execution_count": 73
    }
   ],
   "source": [
    "y = np.array([1, 0, 1])\n",
    "p = np.array([0.1, 0.1, 0.9])\n",
    "loss(y, p)"
   ]
  },
  {
   "cell_type": "code",
   "execution_count": 74,
   "metadata": {},
   "outputs": [
    {
     "output_type": "execute_result",
     "data": {
      "text/plain": "array([31.08561839,  3.45387764,  3.4539576 ])"
     },
     "metadata": {},
     "execution_count": 74
    }
   ],
   "source": [
    "loss(p, y)"
   ]
  },
  {
   "cell_type": "code",
   "execution_count": 76,
   "metadata": {},
   "outputs": [
    {
     "output_type": "execute_result",
     "data": {
      "text/plain": "array([5, 0, 7, 3, 2, 1, 9, 0, 4, 4], dtype=int64)"
     },
     "metadata": {},
     "execution_count": 76
    }
   ],
   "source": [
    "y_pred = np.random.randint(1, 10, (10, 10))\n",
    "y_pred = np.exp(y_pred) / np.sum(np.exp(y_pred), axis=1, keepdims=True)\n",
    "np.argmax(y_pred, axis=1)"
   ]
  },
  {
   "cell_type": "code",
   "execution_count": 78,
   "metadata": {},
   "outputs": [],
   "source": [
    "a = np.zeros_like(y_pred)\n",
    "b = np.zeros(y_pred.shape)"
   ]
  },
  {
   "cell_type": "code",
   "execution_count": 82,
   "metadata": {},
   "outputs": [
    {
     "output_type": "execute_result",
     "data": {
      "text/plain": "['a', 'd', 'f', 's', 's']"
     },
     "metadata": {},
     "execution_count": 82
    }
   ],
   "source": [
    "sorted('asfds')"
   ]
  },
  {
   "cell_type": "code",
   "execution_count": 89,
   "metadata": {},
   "outputs": [
    {
     "output_type": "execute_result",
     "data": {
      "text/plain": "True"
     },
     "metadata": {},
     "execution_count": 89
    }
   ],
   "source": [
    "5 > 3 < 2"
   ]
  },
  {
   "cell_type": "code",
   "execution_count": 111,
   "metadata": {
    "tags": []
   },
   "outputs": [],
   "source": [
    "ans = [1, 3, 4, 5, 7, 10, 14]\n",
    "target = 5\n",
    "def find_target(target, ans):\n",
    "    l, r = 0, len(ans) - 1\n",
    "    flag = 0\n",
    "    while l <= r:\n",
    "        m = l + (r - l >> 1)\n",
    "        if ans[m] == target:\n",
    "            flag = 1\n",
    "            while ans[m] == target:\n",
    "                m -= 1\n",
    "            break\n",
    "        elif ans[m] < target:\n",
    "            l = m + 1\n",
    "        else:\n",
    "            r = m - 1\n",
    "    return m + 1"
   ]
  },
  {
   "cell_type": "code",
   "execution_count": 121,
   "metadata": {},
   "outputs": [],
   "source": [
    "def find_i(arr):\n",
    "    left, right = 0, len(arr) - 1\n",
    "    while left <= right:\n",
    "        mid = left + (right - left >> 1)\n",
    "        print('left:', left, 'mid:', mid, 'right:', right)\n",
    "        if (mid == 0 and arr[mid] < arr[mid+1]) or mid == len(arr) - 1 or (arr[mid - 1] > arr[mid] <= arr[mid + 1]):\n",
    "            break\n",
    "        elif arr[mid] <= arr[left]:\n",
    "            right = mid\n",
    "        else:\n",
    "            left = mid + 1\n",
    "    return mid"
   ]
  },
  {
   "cell_type": "code",
   "execution_count": 94,
   "metadata": {},
   "outputs": [],
   "source": [
    "arr = [15, 16, 19, 20, 25, 1, 3, 4, 5, 7, 10, 14]"
   ]
  },
  {
   "cell_type": "code",
   "execution_count": 100,
   "metadata": {},
   "outputs": [],
   "source": [
    "arr1 = [1,1,1,1,1,2,1,1,1]"
   ]
  },
  {
   "cell_type": "code",
   "execution_count": 112,
   "metadata": {},
   "outputs": [
    {
     "output_type": "execute_result",
     "data": {
      "text/plain": "5"
     },
     "metadata": {},
     "execution_count": 112
    }
   ],
   "source": [
    "find_target(2, arr1[:6])"
   ]
  },
  {
   "cell_type": "code",
   "execution_count": null,
   "metadata": {},
   "outputs": [],
   "source": []
  }
 ],
 "metadata": {
  "language_info": {
   "codemirror_mode": {
    "name": "ipython",
    "version": 3
   },
   "file_extension": ".py",
   "mimetype": "text/x-python",
   "name": "python",
   "nbconvert_exporter": "python",
   "pygments_lexer": "ipython3",
   "version": "3.7.6-final"
  },
  "orig_nbformat": 2,
  "kernelspec": {
   "name": "python36464bitbasecondad5ce925ad7ce4269be5ebed8f684b42a",
   "display_name": "Python 3.6.4 64-bit ('base': conda)"
  }
 },
 "nbformat": 4,
 "nbformat_minor": 2
}