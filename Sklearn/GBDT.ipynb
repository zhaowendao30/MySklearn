{
 "cells": [
  {
   "cell_type": "code",
   "execution_count": 1,
   "metadata": {},
   "outputs": [],
   "source": [
    "from sklearn.ensemble import GradientBoostingClassifier\n",
    "from sklearn.datasets import load_digits\n",
    "from sklearn.model_selection import train_test_split\n",
    "from sklearn.tree import DecisionTreeClassifier\n",
    "from sklearn.metrics import confusion_matrix\n",
    "from sklearn.model_selection import GridSearchCV"
   ]
  },
  {
   "cell_type": "code",
   "execution_count": 2,
   "metadata": {
    "tags": []
   },
   "outputs": [
    {
     "output_type": "stream",
     "name": "stdout",
     "text": "(1797, 64) (1797,)\n"
    }
   ],
   "source": [
    "# ① 分类\n",
    "digits = load_digits()\n",
    "data = digits.data\n",
    "target = digits.target\n",
    "print(data.shape,target.shape)\n",
    "x_train,x_test,y_train,y_test = train_test_split(data,target,test_size=0.1)"
   ]
  },
  {
   "cell_type": "code",
   "execution_count": 3,
   "metadata": {
    "tags": []
   },
   "outputs": [
    {
     "output_type": "stream",
     "name": "stdout",
     "text": "单棵决策树分类结果如下：\n混淆矩阵:\n[[16  0  0  0  0  0  0  0  0  0]\n [ 0 10  1  0  0  0  3  0  2  1]\n [ 0  1 14  0  0  0  1  2  1  1]\n [ 0  2  0 15  0  0  0  1  1  1]\n [ 0  0  0  0 13  0  2  0  0  0]\n [ 0  0  0  0  0 16  0  0  0  0]\n [ 1  0  0  0  0  0 18  0  0  1]\n [ 0  0  1  0  3  0  0 14  0  1]\n [ 0  1  0  0  0  0  0  0 19  1]\n [ 0  0  1  1  0  1  0  0  0 13]]\n训练集分数： 0.9715522572665429\n验证集分数： 0.8222222222222222\n"
    }
   ],
   "source": [
    "# 单棵决策树\n",
    "clf = DecisionTreeClassifier(max_depth=10)\n",
    "clf.fit(x_train,y_train)\n",
    "y_pred = clf.predict(x_test)\n",
    "print(\"单棵决策树分类结果如下：\")\n",
    "print(\"混淆矩阵:\")\n",
    "print(confusion_matrix(y_pred,y_test))\n",
    "print(\"训练集分数：\",clf.score(x_train,y_train))\n",
    "print(\"验证集分数：\",clf.score(x_test,y_test))\n",
    "\n",
    "clf = GradientBoostingClassifier(n_estimators=100,\n",
    "                             criterion='friedman_mse',\n",
    ")"
   ]
  },
  {
   "cell_type": "code",
   "execution_count": 4,
   "metadata": {
    "tags": []
   },
   "outputs": [
    {
     "output_type": "stream",
     "name": "stdout",
     "text": "GBDT分类器（多棵决策树）分类结果如下：\n混淆矩阵:\n[[17  0  0  0  0  0  0  0  0  0]\n [ 0 14  0  0  0  0  1  0  1  1]\n [ 0  0 16  0  0  0  0  0  0  0]\n [ 0  0  0 16  0  0  0  0  0  0]\n [ 0  0  0  0 16  0  0  0  0  0]\n [ 0  0  0  0  0 17  0  0  0  0]\n [ 0  0  0  0  0  0 23  0  0  0]\n [ 0  0  0  0  0  0  0 16  0  0]\n [ 0  0  1  0  0  0  0  1 22  0]\n [ 0  0  0  0  0  0  0  0  0 18]]\n训练集分数： 1.0\n验证集分数： 0.9722222222222222\n"
    }
   ],
   "source": [
    "#clf = GridSearchCV(estimator = gbt, param_grid = {'n_estimators':[10,20,30]}, scoring='roc_auc',iid=False,cv=5)\n",
    "clf.fit(x_train,y_train)\n",
    "y_pred = clf.predict(x_test)\n",
    "print(\"GBDT分类器（多棵决策树）分类结果如下：\")\n",
    "print(\"混淆矩阵:\")\n",
    "print(confusion_matrix(y_pred,y_test))\n",
    "print(\"训练集分数：\",clf.score(x_train,y_train))\n",
    "print(\"验证集分数：\",clf.score(x_test,y_test))"
   ]
  },
  {
   "cell_type": "code",
   "execution_count": null,
   "metadata": {},
   "outputs": [],
   "source": []
  }
 ],
 "metadata": {
  "language_info": {
   "codemirror_mode": {
    "name": "ipython",
    "version": 3
   },
   "file_extension": ".py",
   "mimetype": "text/x-python",
   "name": "python",
   "nbconvert_exporter": "python",
   "pygments_lexer": "ipython3",
   "version": "3.7.6-final"
  },
  "orig_nbformat": 2,
  "kernelspec": {
   "name": "python36464bitbasecondad5ce925ad7ce4269be5ebed8f684b42a",
   "display_name": "Python 3.6.4 64-bit ('base': conda)"
  }
 },
 "nbformat": 4,
 "nbformat_minor": 2
}